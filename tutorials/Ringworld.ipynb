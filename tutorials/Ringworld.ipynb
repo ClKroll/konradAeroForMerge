{
 "cells": [
  {
   "cell_type": "code",
   "execution_count": 1,
   "metadata": {},
   "outputs": [
    {
     "name": "stdout",
     "output_type": "stream",
     "text": [
      "day a)  18.4376235739317 with delta=  0.61458745246439\n",
      "day b)  20.732756334320964 with delta=  0.6910918778106988\n",
      "c) shadow temperature  1046.4577483583703\n",
      "wavelength shadow  2.7691514583803517e-06\n",
      "c) day  19.18821572337446 with delta= 0.6396071907791486\n",
      "1298.0\n"
     ]
    }
   ],
   "source": [
    "import numpy as np\n",
    "import math\n",
    "import matplotlib.pyplot as plt\n",
    "import matplotlib.ticker as mtick\n",
    "###############################################\n",
    "TE=math.pi*pow(10,7)#s\n",
    "aE=150*pow(10,9)#m\n",
    "aSS=15*pow(10,9)#m\n",
    "vRing=1240000#m/s\n",
    "vSS=(2*math.pi*aSS)/pow((pow(TE,2)*pow(aSS,3)),1./2.)*pow(aE,3./2.) #m/s\n",
    "vRingRel=vRing-vSS\n",
    "WienConstant=2.8978*pow(10,-3)\n",
    "#print(vSS)\n",
    "#print(vRingRel)\n",
    "S0=1360#W/m2\n",
    "Ts=293 #K\n",
    "sigma=5.67051*pow(10,-8)# W / (m2 K4)\n",
    "h=1.6*pow(10,9)\n",
    "\n",
    "#delta=1-((2*math.pi*aSS/(20*vRingRel*30*60*60))*(1-((2*sigma*pow(Ts,4))/S0)))\n",
    "delta=2*sigma*pow(Ts,4)/S0\n",
    "print('day a) ', delta*30, 'with delta= ', delta)\n",
    "\n",
    "#part b\n",
    "alpha=0.3\n",
    "A=200 #W/m2\n",
    "B=2 #W/m2K\n",
    "#delta2=1-((2*math.pi*aSS/(20*vRingRel*30*60*60))*(1-(A+20*B)/(S0*(1-alpha))))\n",
    "delta2=1/(S0*(1-alpha))*(sigma*pow(Ts,4)+A+B*(Ts-273))\n",
    "print('day b) ',delta2*30, 'with delta= ', delta2)\n",
    "\n",
    "#part c\n",
    "Tsh=pow(S0*aE*aE/(2*sigma*aSS*aSS),1./4.)\n",
    "print('c) shadow temperature ',Tsh)\n",
    "lambdaSh=WienConstant/Tsh\n",
    "print('wavelength shadow ',lambdaSh)\n",
    "delta3=1/(S0*(1-alpha)-0.2*sigma*pow(Tsh,4)*aSS*aSS/(aE*aE))*(sigma*pow(Ts,4)+A+B*(Ts-273)-sigma*pow(Tsh,4)*0.2*pow(aSS,2)/(pow(aE,2)))\n",
    "\n",
    "print('c) day ',delta3*30,'with delta=', delta3)\n",
    "#part d\n",
    "temperature=(S0/2*(1-alpha)-A)/B+273\n",
    "#print(temperature) \n",
    "print(S0*(1-alpha)-A+273*B)\n",
    "tempBegin=326.56\n",
    "tempEnd=326.562\n",
    "steps=100\n",
    "temperatureList=np.linspace(tempBegin,tempEnd,steps)\n",
    "#print('testing')\n",
    "#print(temperatureList)\n",
    "radOut=[]\n",
    "for i in temperatureList:\n",
    "    #print(i*B+sigma*pow(i,4),'',i)\n",
    "    radOut.append(A+(i-273)*B+sigma*pow(i,4))\n",
    "fig = plt.figure()\n",
    "ax = fig.add_subplot(111)\n",
    "#ax,fig=plt.subplots()\n",
    "radIn=np.full((steps,1),S0*(1-alpha))\n",
    "plt.plot(temperatureList,radIn,label='incoming radiation')\n",
    "plt.plot(temperatureList,radOut,label='outgoing radiation')\n",
    "#ax.xaxis.set_major_formatter(FormatStrFormatter('%.2f'))\n",
    "ax.yaxis.set_major_formatter(mtick.FormatStrFormatter('%.4f'))\n",
    "ax.xaxis.set_major_formatter(mtick.FormatStrFormatter('%.4f'))\n",
    "plt.locator_params(axis='x', nbins=5)\n",
    "plt.ylabel('radiation [W/m2]')\n",
    "plt.xlabel('ringworld temperature [K]')\n",
    "plt.legend()\n",
    "plt.grid()\n",
    "#plt.show()\n",
    "plt.savefig('ringwordlTemp.png')\n"
   ]
  },
  {
   "cell_type": "code",
   "execution_count": null,
   "metadata": {},
   "outputs": [],
   "source": []
  }
 ],
 "metadata": {
  "kernelspec": {
   "display_name": "Python 3",
   "language": "python",
   "name": "python3"
  },
  "language_info": {
   "codemirror_mode": {
    "name": "ipython",
    "version": 3
   },
   "file_extension": ".py",
   "mimetype": "text/x-python",
   "name": "python",
   "nbconvert_exporter": "python",
   "pygments_lexer": "ipython3",
   "version": "3.7.3"
  }
 },
 "nbformat": 4,
 "nbformat_minor": 2
}
