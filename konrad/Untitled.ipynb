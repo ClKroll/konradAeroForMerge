{
 "cells": [
  {
   "cell_type": "code",
   "execution_count": 29,
   "metadata": {},
   "outputs": [],
   "source": [
    "import xarray as xr\n",
    "import scipy as sc\n",
    "import numpy as np\n",
    "import math"
   ]
  },
  {
   "cell_type": "code",
   "execution_count": 55,
   "metadata": {},
   "outputs": [],
   "source": [
    "aerosolData=xr.open_dataset('allzonMerAvgTropics2323volcanoSpt036_l95_t63tauPressure3.nc')"
   ]
  },
  {
   "cell_type": "code",
   "execution_count": 56,
   "metadata": {},
   "outputs": [
    {
     "data": {
      "text/plain": [
       "<xarray.Dataset>\n",
       "Dimensions:      (plev: 91, time: 120)\n",
       "Coordinates:\n",
       "  * time         (time) datetime64[ns] 2005-11-01 ... 2005-11-30T18:00:00\n",
       "  * plev         (plev) float64 1.009e+05 9.957e+04 9.674e+04 ... 0.9946 0.0\n",
       "Data variables:\n",
       "    aps          (time) float32 ...\n",
       "    TAU_MODE_AS  (time, plev) float32 ...\n",
       "Attributes:\n",
       "    CDI:               Climate Data Interface version 1.9.7.1 (http://mpimet....\n",
       "    history:           Thu Jul 11 11:04:05 2019: cdo ml2pl,100934,99565.3,967...\n",
       "    source:            ECHAM5.4\n",
       "    institution:       Max-Planck-Institute for Meteorology\n",
       "    Conventions:       CF-1.0, + local extensions\n",
       "    title:             pt036_l95_t63\n",
       "    echam_version:     5.4.01\n",
       "    advection:         Lin & Rood\n",
       "    physics:           Modified ECMWF physics\n",
       "    radiation:         Modified ECMWF radiation\n",
       "    date_time:         20190508 223141\n",
       "    operating_system:  Linux 2.6.32-696.18.7.el6.x86_64 on x86_64\n",
       "    user_name:         Ulrike Niemeier (m214074)\n",
       "    host_name:         m11230\n",
       "    truncation:        63\n",
       "    CDO:               Climate Data Operators version 1.9.7.1 (http://mpimet...."
      ]
     },
     "execution_count": 56,
     "metadata": {},
     "output_type": "execute_result"
    }
   ],
   "source": [
    "aerosolData"
   ]
  },
  {
   "cell_type": "code",
   "execution_count": 57,
   "metadata": {},
   "outputs": [],
   "source": [
    "for i in range(0,119):\n",
    "    where_are_NaNs = np.isnan(np.squeeze(aerosolData.TAU_MODE_AS[i,:]))\n",
    "    aerosolData.TAU_MODE_AS[i,where_are_NaNs]= 0\n",
    "    "
   ]
  },
  {
   "cell_type": "code",
   "execution_count": 58,
   "metadata": {},
   "outputs": [
    {
     "ename": "AttributeError",
     "evalue": "module 'scipy' has no attribute 'interpolate'",
     "output_type": "error",
     "traceback": [
      "\u001b[0;31m---------------------------------------------------------------------------\u001b[0m",
      "\u001b[0;31mAttributeError\u001b[0m                            Traceback (most recent call last)",
      "\u001b[0;32m<ipython-input-58-f9a822d9bb00>\u001b[0m in \u001b[0;36m<module>\u001b[0;34m\u001b[0m\n\u001b[0;32m----> 1\u001b[0;31m \u001b[0msc\u001b[0m\u001b[0;34m.\u001b[0m\u001b[0minterpolate\u001b[0m\u001b[0;34m.\u001b[0m\u001b[0minterp1d\u001b[0m\u001b[0;34m(\u001b[0m\u001b[0maerosolData\u001b[0m\u001b[0;34m.\u001b[0m\u001b[0mplev\u001b[0m\u001b[0;34m,\u001b[0m\u001b[0maerosolData\u001b[0m\u001b[0;34m.\u001b[0m\u001b[0mTAU_MODE_AS\u001b[0m\u001b[0;34m)\u001b[0m\u001b[0;34m(\u001b[0m\u001b[0matmosphere\u001b[0m\u001b[0;34m.\u001b[0m\u001b[0mplev\u001b[0m\u001b[0;34m)\u001b[0m\u001b[0;34m\u001b[0m\u001b[0;34m\u001b[0m\u001b[0m\n\u001b[0m",
      "\u001b[0;31mAttributeError\u001b[0m: module 'scipy' has no attribute 'interpolate'"
     ]
    }
   ],
   "source": [
    " sc.interpolate.interp1d(aerosolData.plev,aerosolData.TAU_MODE_AS)(atmosphere.plev) "
   ]
  },
  {
   "cell_type": "code",
   "execution_count": 37,
   "metadata": {},
   "outputs": [
    {
     "data": {
      "text/plain": [
       "<xarray.DataArray 'TAU_MODE_AS' (time: 120, plev: 90)>\n",
       "array([[ True,  True, False, ..., False, False, False],\n",
       "       [ True,  True, False, ..., False, False, False],\n",
       "       [ True,  True, False, ..., False, False, False],\n",
       "       ...,\n",
       "       [ True, False, False, ..., False, False, False],\n",
       "       [ True, False, False, ..., False, False, False],\n",
       "       [ True, False, False, ..., False, False, False]])\n",
       "Coordinates:\n",
       "  * time     (time) datetime64[ns] 2005-11-01 ... 2005-11-30T18:00:00\n",
       "  * plev     (plev) float64 1.009e+05 9.957e+04 9.674e+04 ... 5.808 3.183 0.9946"
      ]
     },
     "execution_count": 37,
     "metadata": {},
     "output_type": "execute_result"
    }
   ],
   "source": [
    "cdo ml2pl,102500,100934,99565.3,96738.1,92108.5,85715,78444.2,71372.5,64849.2,58909.1,53499.8,48581.4,44112.6,40053.1,36370.4,33029.9,30000.3,27251.3,24754.7,22489.8,20436.9,18576.9,16892.3,15366.5,13987.4,12742.8,11620.7,10608,9692.32,8863.41,8111.52,7426.77,6801.72,6232.17,5714.27,5242.99,4813.4,4421.67,4063.97,3736.44,3436.18,3161.09,2908.17,2674.83,2459.51,2260.76,2077.31,1907.95,1751.63,1607.37,1474.24,1351.39,1238.02,1133.41,1036.86,947.773,865.558,789.689,719.676,655.067,595.445,540.424,489.793,443.342,400.726,361.63,325.761,292.854,262.664,234.967,209.556,186.244,164.95,145.591,127.993,111.994,97.45,84.2279,72.2078,61.2805,51.431,42.6369,34.8816,28.1378,22.2737,17.1744,12.7403,8.95928,5.80841,3.18269,0.994591,0 allzonMerAvgTropics2323volcanoSpt036_l95_t63tau.nc allzonMerAvgTropics2323volcanoSpt036_l95_t63tauPressure.nc\n"
   ]
  },
  {
   "cell_type": "code",
   "execution_count": null,
   "metadata": {},
   "outputs": [],
   "source": []
  }
 ],
 "metadata": {
  "kernelspec": {
   "display_name": "Python 3",
   "language": "python",
   "name": "python3"
  },
  "language_info": {
   "codemirror_mode": {
    "name": "ipython",
    "version": 3
   },
   "file_extension": ".py",
   "mimetype": "text/x-python",
   "name": "python",
   "nbconvert_exporter": "python",
   "pygments_lexer": "ipython3",
   "version": "3.7.3"
  }
 },
 "nbformat": 4,
 "nbformat_minor": 2
}
